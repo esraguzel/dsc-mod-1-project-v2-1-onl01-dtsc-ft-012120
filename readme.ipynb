{
 "cells": [
  {
   "attachments": {},
   "cell_type": "markdown",
   "metadata": {},
   "source": [
    "# A Guideline For Beginners\n",
    "\n",
    "## Goals and Overview\n",
    "\n",
    "In module 1 project, the dataset listed below was given to me:\n",
    "\n",
    " - tmdb.movies.csv.gz\n",
    " - zippedData/imdb.title.akas.csv.gz\n",
    " - zippedData/imdb.title.ratings.csv.gz\n",
    " - zippedData/imdb.name.basics.csv.gz\n",
    " - zippedData/imdb.title.basics.csv.gz\n",
    " - zippedData/tn.movie_budgets.csv.gz\n",
    " - zippedData/bom.movie_gross.csv.gz\n",
    " - zippedData/imdb.title.principals.csv.gz\n",
    " \n",
    " \n",
    "The aim of this project is to provide intelligence which may help the decision making process in terms of release timing, genre selection and give clear understanding about the nature of production budget, domestic/worldwide gross, domestic/worldwide ROI ratio  for the new companies/investors in the movie industry. \n",
    "\n",
    "## Question 1: How many movies released every year, every month? Which month of the year is more profitable?\n",
    "\n",
    "\n",
    "\n",
    "This question is asked to explore which time of the year is preferred for movie releases a movie and which months are more profitable in return, as well as to see the overall distribution of movies by years."
   ]
  },
  {
   "cell_type": "code",
   "execution_count": null,
   "metadata": {},
   "outputs": [],
   "source": []
  }
 ],
 "metadata": {
  "kernelspec": {
   "display_name": "Python [conda env:learn-env] *",
   "language": "python",
   "name": "conda-env-learn-env-py"
  },
  "language_info": {
   "codemirror_mode": {
    "name": "ipython",
    "version": 3
   },
   "file_extension": ".py",
   "mimetype": "text/x-python",
   "name": "python",
   "nbconvert_exporter": "python",
   "pygments_lexer": "ipython3",
   "version": "3.6.9"
  },
  "toc": {
   "base_numbering": 1,
   "nav_menu": {},
   "number_sections": true,
   "sideBar": true,
   "skip_h1_title": false,
   "title_cell": "Table of Contents",
   "title_sidebar": "Contents",
   "toc_cell": false,
   "toc_position": {},
   "toc_section_display": true,
   "toc_window_display": false
  },
  "varInspector": {
   "cols": {
    "lenName": 16,
    "lenType": 16,
    "lenVar": 40
   },
   "kernels_config": {
    "python": {
     "delete_cmd_postfix": "",
     "delete_cmd_prefix": "del ",
     "library": "var_list.py",
     "varRefreshCmd": "print(var_dic_list())"
    },
    "r": {
     "delete_cmd_postfix": ") ",
     "delete_cmd_prefix": "rm(",
     "library": "var_list.r",
     "varRefreshCmd": "cat(var_dic_list()) "
    }
   },
   "types_to_exclude": [
    "module",
    "function",
    "builtin_function_or_method",
    "instance",
    "_Feature"
   ],
   "window_display": false
  }
 },
 "nbformat": 4,
 "nbformat_minor": 2
}
